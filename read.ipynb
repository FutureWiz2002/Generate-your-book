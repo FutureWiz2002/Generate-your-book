{
 "cells": [
  {
   "cell_type": "code",
   "execution_count": null,
   "metadata": {},
   "outputs": [],
   "source": [
    "import pytesseract\n",
    "import fitz\n",
    "import cv2 as cv\n",
    "import PIL\n",
    "\n",
    "pytesseract.pytesseract.tesseract_cmd = r\"C:\\Program Files\\Tesseract-OCR\\tesseract.exe\""
   ]
  },
  {
   "cell_type": "code",
   "execution_count": null,
   "metadata": {},
   "outputs": [],
   "source": [
    "document = fitz.open(\"biography.pdf\")\n",
    "\n",
    "for page in document:\n",
    "    image = page.get_pixmap()\n",
    "    image.save(\"allImages/page-%i.jpg\" % page.number)  # store image as a PNG\n"
   ]
  },
  {
   "cell_type": "code",
   "execution_count": null,
   "metadata": {},
   "outputs": [],
   "source": [
    "image = cv.imread(\"allImages/page-7.jpg\")\n",
    "# cv.imshow(\"hello\", image)\n",
    "# cv.waitKey(0)\n",
    "all_data = {}\n",
    "for i in range(7, 340):\n",
    "    text = pytesseract.image_to_string(f\"allImages/page-{i}.jpg\")\n",
    "    all_data[i] = text\n",
    "    print(f\"Done with Page # {i}\")"
   ]
  },
  {
   "cell_type": "code",
   "execution_count": null,
   "metadata": {},
   "outputs": [],
   "source": [
    "string = \"\"\n",
    "for key, val in all_data.items():\n",
    "    string += val\n",
    "    string += \"\\n\\n<br><br><br>\\n\\n\"\n",
    "print(string)"
   ]
  },
  {
   "cell_type": "code",
   "execution_count": null,
   "metadata": {},
   "outputs": [],
   "source": [
    "string = string.replace(\"<\", \"\")\n",
    "string = string.replace(\"@\", \"\")\n",
    "string = string.replace(\">\", \"\")"
   ]
  },
  {
   "cell_type": "code",
   "execution_count": null,
   "metadata": {},
   "outputs": [],
   "source": [
    "print(string)"
   ]
  }
 ],
 "metadata": {
  "kernelspec": {
   "display_name": "venv",
   "language": "python",
   "name": "python3"
  },
  "language_info": {
   "codemirror_mode": {
    "name": "ipython",
    "version": 3
   },
   "file_extension": ".py",
   "mimetype": "text/x-python",
   "name": "python",
   "nbconvert_exporter": "python",
   "pygments_lexer": "ipython3",
   "version": "3.10.6"
  }
 },
 "nbformat": 4,
 "nbformat_minor": 2
}
